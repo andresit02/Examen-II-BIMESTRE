{
  "nbformat": 4,
  "nbformat_minor": 0,
  "metadata": {
    "colab": {
      "provenance": [],
      "authorship_tag": "ABX9TyPYgFIDJ/I5xrCeivIodzj1",
      "include_colab_link": true
    },
    "kernelspec": {
      "name": "python3",
      "display_name": "Python 3"
    },
    "language_info": {
      "name": "python"
    }
  },
  "cells": [
    {
      "cell_type": "markdown",
      "metadata": {
        "id": "view-in-github",
        "colab_type": "text"
      },
      "source": [
        "<a href=\"https://colab.research.google.com/github/andresit02/Examen-II-BIMESTRE/blob/main/ODE.ipynb\" target=\"_parent\"><img src=\"https://colab.research.google.com/assets/colab-badge.svg\" alt=\"Open In Colab\"/></a>"
      ]
    },
    {
      "cell_type": "code",
      "execution_count": 6,
      "metadata": {
        "id": "ajYcSqDkQ9Ch"
      },
      "outputs": [],
      "source": [
        "from typing import Callable\n",
        "\n",
        "def ODE_euler(\n",
        "    *,\n",
        "    a: float,\n",
        "    b: float,\n",
        "    f: Callable[[float, float], float],\n",
        "    y_t0: float,\n",
        "    N: int,\n",
        ") -> tuple[list[float], list[float], float]:\n",
        "    \"\"\"Solves (numerically) an ODE of the form\n",
        "        dy/dt = f(t, y)\n",
        "            y(t_0) = y_t0, a <= t_0 <= b\n",
        "    using the Euler method for the N+1 points in the time range [a, b].\n",
        "\n",
        "    It generates N+1 mesh points with:\n",
        "        t_i = a + i*h, h = (a - b) / N,\n",
        "    where h is the step size.\n",
        "\n",
        "\n",
        "    ## Parameters\n",
        "    ``a``: initial time\n",
        "    ``b``: final time\n",
        "    ``f``: function of two variables ``t`` and ``y``\n",
        "    ``y_t0``: initial condition\n",
        "    ``N``: number of mesh points\n",
        "\n",
        "    ## Return\n",
        "    ``ys``: a list of the N+1 approximated values of y\n",
        "    ``ts``: a list of the N+1 mesh points\n",
        "    ``h``: the step size h\n",
        "\n",
        "    \"\"\"\n",
        "    h = (b - a) / N\n",
        "    t = a\n",
        "    ts = [t]\n",
        "    ys = [y_t0]\n",
        "\n",
        "    for _ in range(N):\n",
        "        y = ys[-1]\n",
        "        y += h * f(t, y)\n",
        "        ys.append(y)\n",
        "\n",
        "        t += h\n",
        "        ts.append(t)\n",
        "    return ys, ts, h"
      ]
    },
    {
      "cell_type": "code",
      "source": [
        "# ####################################################################\n",
        "from math import factorial\n",
        "\n",
        "# Define the ODE\n",
        "def f(t: float, y: float) -> float:\n",
        "    return -5 * y + 5 * t**2 + 2 * t\n",
        "\n",
        "# Set parameters\n",
        "a = 0.0\n",
        "b = 1.0\n",
        "y_t0 = 1/3\n",
        "N = 10\n",
        "\n",
        "# Solve the ODE using the Euler method\n",
        "ys, ts, h = ODE_euler(a=a, b=b, f=f, y_t0=y_t0, N=N)\n",
        "\n",
        "# Print the results\n",
        "print(\"ys:\", ys)\n",
        "print(\"ts:\", ts)\n",
        "print(\"h:\", h)"
      ],
      "metadata": {
        "colab": {
          "base_uri": "https://localhost:8080/"
        },
        "id": "F1URUwWUUten",
        "outputId": "a99fdd9a-05c2-4600-ec16-3d8f92f703c3"
      },
      "execution_count": 7,
      "outputs": [
        {
          "output_type": "stream",
          "name": "stdout",
          "text": [
            "ys: [0.3333333333333333, 0.16666666666666666, 0.10833333333333334, 0.11416666666666667, 0.16208333333333336, 0.2410416666666667, 0.34552083333333333, 0.4727604166666667, 0.6213802083333333, 0.7906901041666666, 0.9803450520833332]\n",
            "ts: [0.0, 0.1, 0.2, 0.30000000000000004, 0.4, 0.5, 0.6, 0.7, 0.7999999999999999, 0.8999999999999999, 0.9999999999999999]\n",
            "h: 0.1\n"
          ]
        }
      ]
    }
  ]
}