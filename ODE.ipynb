{
  "nbformat": 4,
  "nbformat_minor": 0,
  "metadata": {
    "colab": {
      "provenance": [],
      "authorship_tag": "ABX9TyPtqAlkCBpJVJWevhq/WTkn",
      "include_colab_link": true
    },
    "kernelspec": {
      "name": "python3",
      "display_name": "Python 3"
    },
    "language_info": {
      "name": "python"
    }
  },
  "cells": [
    {
      "cell_type": "markdown",
      "metadata": {
        "id": "view-in-github",
        "colab_type": "text"
      },
      "source": [
        "<a href=\"https://colab.research.google.com/github/andresit02/Examen-II-BIMESTRE/blob/main/ODE.ipynb\" target=\"_parent\"><img src=\"https://colab.research.google.com/assets/colab-badge.svg\" alt=\"Open In Colab\"/></a>"
      ]
    },
    {
      "cell_type": "code",
      "execution_count": 2,
      "metadata": {
        "id": "ajYcSqDkQ9Ch"
      },
      "outputs": [],
      "source": [
        "from typing import Callable\n",
        "\n",
        "def ODE_euler(\n",
        "    *,\n",
        "    a: float,\n",
        "    b: float,\n",
        "    f: Callable[[float, float], float],\n",
        "    y_t0: float,\n",
        "    N: int,\n",
        ") -> tuple[list[float], list[float], float]:\n",
        "    \"\"\"Solves (numerically) an ODE of the form\n",
        "        dy/dt = f(t, y)\n",
        "            y(t_0) = y_t0, a <= t_0 <= b\n",
        "    using the Euler method for the N+1 points in the time range [a, b].\n",
        "\n",
        "    It generates N+1 mesh points with:\n",
        "        t_i = a + i*h, h = (a - b) / N,\n",
        "    where h is the step size.\n",
        "\n",
        "\n",
        "    ## Parameters\n",
        "    ``a``: initial time\n",
        "    ``b``: final time\n",
        "    ``f``: function of two variables ``t`` and ``y``\n",
        "    ``y_t0``: initial condition\n",
        "    ``N``: number of mesh points\n",
        "\n",
        "    ## Return\n",
        "    ``ys``: a list of the N+1 approximated values of y\n",
        "    ``ts``: a list of the N+1 mesh points\n",
        "    ``h``: the step size h\n",
        "\n",
        "    \"\"\"\n",
        "    h = (b - a) / N\n",
        "    t = a\n",
        "    ts = [t]\n",
        "    ys = [y_t0]\n",
        "\n",
        "    for _ in range(N):\n",
        "        y = ys[-1]\n",
        "        y += h * f(t, y)\n",
        "        ys.append(y)\n",
        "\n",
        "        t += h\n",
        "        ts.append(t)\n",
        "    return ys, ts, h\n",
        "\n",
        "\n",
        "# ####################################################################\n",
        "from math import factorial"
      ]
    }
  ]
}