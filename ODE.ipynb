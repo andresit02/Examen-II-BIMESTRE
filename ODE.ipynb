{
  "nbformat": 4,
  "nbformat_minor": 0,
  "metadata": {
    "colab": {
      "provenance": [],
      "authorship_tag": "ABX9TyPr8ewPSjyiN2iiMai13rWi",
      "include_colab_link": true
    },
    "kernelspec": {
      "name": "python3",
      "display_name": "Python 3"
    },
    "language_info": {
      "name": "python"
    }
  },
  "cells": [
    {
      "cell_type": "markdown",
      "metadata": {
        "id": "view-in-github",
        "colab_type": "text"
      },
      "source": [
        "<a href=\"https://colab.research.google.com/github/andresit02/Examen-II-BIMESTRE/blob/main/ODE.ipynb\" target=\"_parent\"><img src=\"https://colab.research.google.com/assets/colab-badge.svg\" alt=\"Open In Colab\"/></a>"
      ]
    },
    {
      "cell_type": "code",
      "execution_count": 6,
      "metadata": {
        "id": "ajYcSqDkQ9Ch"
      },
      "outputs": [],
      "source": [
        "from typing import Callable\n",
        "\n",
        "def ODE_euler(\n",
        "    *,\n",
        "    a: float,\n",
        "    b: float,\n",
        "    f: Callable[[float, float], float],\n",
        "    y_t0: float,\n",
        "    N: int,\n",
        ") -> tuple[list[float], list[float], float]:\n",
        "    \"\"\"Solves (numerically) an ODE of the form\n",
        "        dy/dt = f(t, y)\n",
        "            y(t_0) = y_t0, a <= t_0 <= b\n",
        "    using the Euler method for the N+1 points in the time range [a, b].\n",
        "\n",
        "    It generates N+1 mesh points with:\n",
        "        t_i = a + i*h, h = (a - b) / N,\n",
        "    where h is the step size.\n",
        "\n",
        "\n",
        "    ## Parameters\n",
        "    ``a``: initial time\n",
        "    ``b``: final time\n",
        "    ``f``: function of two variables ``t`` and ``y``\n",
        "    ``y_t0``: initial condition\n",
        "    ``N``: number of mesh points\n",
        "\n",
        "    ## Return\n",
        "    ``ys``: a list of the N+1 approximated values of y\n",
        "    ``ts``: a list of the N+1 mesh points\n",
        "    ``h``: the step size h\n",
        "\n",
        "    \"\"\"\n",
        "    h = (b - a) / N\n",
        "    t = a\n",
        "    ts = [t]\n",
        "    ys = [y_t0]\n",
        "\n",
        "    for _ in range(N):\n",
        "        y = ys[-1]\n",
        "        y += h * f(t, y)\n",
        "        ys.append(y)\n",
        "\n",
        "        t += h\n",
        "        ts.append(t)\n",
        "    return ys, ts, h"
      ]
    },
    {
      "cell_type": "code",
      "source": [
        "# ####################################################################\n",
        "from math import factorial\n",
        "\n",
        "# Defino la ODE\n",
        "def f(t: float, y: float) -> float:\n",
        "    return -5 * y + 5 * t**2 + 2 * t\n",
        "\n",
        "# Ubico los parámetros\n",
        "a = 0.0\n",
        "b = 1.0\n",
        "y_t0 = 1/3\n",
        "N = 10\n",
        "\n",
        "# Resuelvo usando el metodo de euler\n",
        "ys, ts, h = ODE_euler(a=a, b=b, f=f, y_t0=y_t0, N=N)\n",
        "\n",
        "# Print the results\n",
        "print(\"ys:\", ys)\n",
        "print(\"ts:\", ts)\n",
        "print(\"h:\", h)"
      ],
      "metadata": {
        "colab": {
          "base_uri": "https://localhost:8080/"
        },
        "id": "F1URUwWUUten",
        "outputId": "a99fdd9a-05c2-4600-ec16-3d8f92f703c3"
      },
      "execution_count": 7,
      "outputs": [
        {
          "output_type": "stream",
          "name": "stdout",
          "text": [
            "ys: [0.3333333333333333, 0.16666666666666666, 0.10833333333333334, 0.11416666666666667, 0.16208333333333336, 0.2410416666666667, 0.34552083333333333, 0.4727604166666667, 0.6213802083333333, 0.7906901041666666, 0.9803450520833332]\n",
            "ts: [0.0, 0.1, 0.2, 0.30000000000000004, 0.4, 0.5, 0.6, 0.7, 0.7999999999999999, 0.8999999999999999, 0.9999999999999999]\n",
            "h: 0.1\n"
          ]
        }
      ]
    },
    {
      "cell_type": "markdown",
      "source": [
        "****¿Cuál es el valor de h\n",
        " ?****\n",
        "\n",
        " - El valor de h es 0.1"
      ],
      "metadata": {
        "id": "3fyw2zCbgIdD"
      }
    },
    {
      "cell_type": "markdown",
      "source": [
        "****Sabiendo que la solución de la ODE es:****\n",
        "\n",
        "****y(t)=t^2+1/3e^−5t****\n",
        "\n",
        "****Grafique la solución real y la aproximación obtenida con el método de Euler.****"
      ],
      "metadata": {
        "id": "UNId9iddgUcA"
      }
    },
    {
      "cell_type": "code",
      "source": [
        "t_exact = np.linspace(a, b, 100)\n",
        "y_exact = [exact_solution(t) for t in t_exact]\n",
        "\n",
        "plt.plot(ts, ys, marker='o', linestyle='-', label='Aproximación de Euler')\n",
        "plt.plot(t_exact, y_exact, linestyle='--', label='Solución exacta')\n",
        "plt.xlabel('t')\n",
        "plt.ylabel('y(t)')\n",
        "plt.title('Comparación de la Solución real y el Metodo de Euler')\n",
        "plt.legend()\n",
        "plt.grid(True)\n",
        "plt.show()"
      ],
      "metadata": {
        "colab": {
          "base_uri": "https://localhost:8080/",
          "height": 472
        },
        "id": "f53I9dFcgm2v",
        "outputId": "bd54e6c0-0a63-494b-d03d-aba3710ead1f"
      },
      "execution_count": 10,
      "outputs": [
        {
          "output_type": "display_data",
          "data": {
            "text/plain": [
              "<Figure size 640x480 with 1 Axes>"
            ],
            "image/png": "[encoded data removed]"
          },
          "metadata": {}
        }
      ]
    },
    {
      "cell_type": "code",
      "source": [
        "import math\n",
        "\n",
        "def f(t: float, y: float) -> float:\n",
        "    return (-5)*y + 5*(t**2) + 2*t\n",
        "\n",
        "# Definición\n",
        "a = 0\n",
        "b = 1\n",
        "y_t0 = 1/3\n",
        "N = 5\n",
        "\n",
        "y, t, h = ODE_euler(a=a, b=b, f=f, y_t0=y_t0, N=N)\n",
        "\n",
        "y_exact = [(ti ** 2) + (1/3) * math.exp(-5 * ti) for ti in t]\n",
        "error = [yi - y_exact_i for yi, y_exact_i in zip(y, y_exact)]\n",
        "\n",
        "print(\"t:\", t)\n",
        "print(\"y:\", y)\n",
        "\n",
        "error_relativo = [abs(e / y_exact_i) for e, y_exact_i in zip(error, y_exact)]\n",
        "\n",
        "print(\"Error relativo:\", error_relativo)\n",
        "\n",
        "# Cálculo del promedio del error relativo\n",
        "promedio_error_relativo = sum(error_relativo) / len(error_relativo)\n",
        "print(\"Promedio del error relativo: {:.4f}\".format(promedio_error_relativo))\n",
        "\n",
        "# Impresión del promedio del error relativo - notación científica\n",
        "print(\"Promedio del error relativo (notación científica): {:.2e}\".format(promedio_error_relativo))"
      ],
      "metadata": {
        "colab": {
          "base_uri": "https://localhost:8080/"
        },
        "id": "mopEAu02wdXS",
        "outputId": "2cf811bf-6c97-48cc-c9ba-f3c3844256e6"
      },
      "execution_count": 16,
      "outputs": [
        {
          "output_type": "stream",
          "name": "stdout",
          "text": [
            "t: [0.0, 0.2, 0.4, 0.6000000000000001, 0.8, 1.0]\n",
            "y: [0.3333333333333333, 0.0, 0.12000000000000002, 0.32000000000000006, 0.6000000000000001, 0.9600000000000002]\n",
            "Error relativo: [0.0, 1.0, 0.4149530998670679, 0.1502823612710891, 0.07135867663330255, 0.04215131123268574]\n",
            "Promedio del error relativo: 0.2798\n",
            "Promedio del error relativo (notación científica): 2.80e-01\n"
          ]
        }
      ]
    },
    {
      "cell_type": "code",
      "source": [
        "import math\n",
        "\n",
        "# Definición\n",
        "def f(t: float, y: float) -> float:\n",
        "    return (-5) * y + 5 * (t ** 2) + 2 * t\n",
        "\n",
        "# Parámetros\n",
        "a = 0\n",
        "b = 1\n",
        "y_t0 = 1 / 3\n",
        "N = 20\n",
        "\n",
        "# Método de Euler\n",
        "def ODE_euler(a, b, f, y_t0, N):\n",
        "    h = (b - a) / N\n",
        "    t_values = [a + i * h for i in range(N + 1)]\n",
        "    y_values = [y_t0]\n",
        "    y_current = y_t0\n",
        "\n",
        "    for i in range(1, len(t_values)):\n",
        "        y_next = y_current + h * f(t_values[i - 1], y_current)\n",
        "        y_values.append(y_next)\n",
        "        y_current = y_next\n",
        "\n",
        "    return y_values, t_values, h\n",
        "\n",
        "# Resolución mediante el método de Euler\n",
        "y, t, h = ODE_euler(a=a, b=b, f=f, y_t0=y_t0, N=N)\n",
        "\n",
        "# Solución exacta y cálculo del error\n",
        "y_exact = [(ti ** 2) + (1 / 3) * math.exp(-5 * ti) for ti in t]\n",
        "error = [yi - y_exact_i for yi, y_exact_i in zip(y, y_exact)]\n",
        "\n",
        "print(\"\\n=== Resultados del Método de Euler ===\")\n",
        "print(\"t:\", [f\"{ti:.4f}\" for ti in t])\n",
        "print(\"y:\", [f\"{yi:.4f}\" for yi in y])\n",
        "\n",
        "# Cálculo del error relativo\n",
        "error_relativo = [abs(e / y_exact_i) for e, y_exact_i in zip(error, y_exact)]\n",
        "print(\"\\n=== Errores Relativos ===\")\n",
        "print([f\"{er:.4f}\" for er in error_relativo])\n",
        "\n",
        "# Cálculo del promedio del error relativo\n",
        "promedio_error_relativo = sum(error_relativo) / len(error_relativo)\n",
        "print(\"\\n=== Promedio del Error Relativo ===\")\n",
        "print(f\"Promedio del error relativo: {promedio_error_relativo:.4f}\")\n",
        "print(f\"Promedio del error relativo (notación científica): {promedio_error_relativo:.2e}\")\n"
      ],
      "metadata": {
        "colab": {
          "base_uri": "https://localhost:8080/"
        },
        "id": "4fUTnjADxj4v",
        "outputId": "22f35de3-f2d7-4f23-997b-98f70e6038f6"
      },
      "execution_count": 18,
      "outputs": [
        {
          "output_type": "stream",
          "name": "stdout",
          "text": [
            "\n",
            "=== Resultados del Método de Euler ===\n",
            "t: ['0.0000', '0.0500', '0.1000', '0.1500', '0.2000', '0.2500', '0.3000', '0.3500', '0.4000', '0.4500', '0.5000', '0.5500', '0.6000', '0.6500', '0.7000', '0.7500', '0.8000', '0.8500', '0.9000', '0.9500', '1.0000']\n",
            "y: ['0.3333', '0.2500', '0.1931', '0.1573', '0.1386', '0.1340', '0.1411', '0.1583', '0.1844', '0.2183', '0.2593', '0.3070', '0.3609', '0.4207', '0.4861', '0.5571', '0.6334', '0.7151', '0.8019', '0.8940', '0.9911']\n",
            "\n",
            "=== Errores Relativos ===\n",
            "['0.0000', '0.0462', '0.0898', '0.1257', '0.1475', '0.1521', '0.1416', '0.1225', '0.1011', '0.0814', '0.0650', '0.0519', '0.0417', '0.0339', '0.0279', '0.0232', '0.0196', '0.0167', '0.0145', '0.0126', '0.0111']\n",
            "\n",
            "=== Promedio del Error Relativo ===\n",
            "Promedio del error relativo: 0.0631\n",
            "Promedio del error relativo (notación científica): 6.31e-02\n"
          ]
        }
      ]
    }
  ]
}