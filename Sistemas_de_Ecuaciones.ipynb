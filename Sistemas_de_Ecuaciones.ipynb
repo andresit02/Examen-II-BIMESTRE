{
  "nbformat": 4,
  "nbformat_minor": 0,
  "metadata": {
    "colab": {
      "provenance": [],
      "authorship_tag": "ABX9TyMXrSSzT9pMMWIjJD1nHqoE",
      "include_colab_link": true
    },
    "kernelspec": {
      "name": "python3",
      "display_name": "Python 3"
    },
    "language_info": {
      "name": "python"
    }
  },
  "cells": [
    {
      "cell_type": "markdown",
      "metadata": {
        "id": "view-in-github",
        "colab_type": "text"
      },
      "source": [
        "<a href=\"https://colab.research.google.com/github/andresit02/Examen-II-BIMESTRE/blob/main/Sistemas_de_Ecuaciones.ipynb\" target=\"_parent\"><img src=\"https://colab.research.google.com/assets/colab-badge.svg\" alt=\"Open In Colab\"/></a>"
      ]
    },
    {
      "cell_type": "code",
      "execution_count": 8,
      "metadata": {
        "colab": {
          "base_uri": "https://localhost:8080/"
        },
        "id": "yuW2-7r3H-I9",
        "outputId": "7c35e9e8-ab97-4207-dcd4-026b233066fd"
      },
      "outputs": [
        {
          "output_type": "stream",
          "name": "stdout",
          "text": [
            "The autoreload extension is already loaded. To reload it, use:\n",
            "  %reload_ext autoreload\n"
          ]
        }
      ],
      "source": [
        "%load_ext autoreload\n",
        "# %autoreload 2"
      ]
    },
    {
      "cell_type": "markdown",
      "source": [
        "****Método de Gauss - Jordan****"
      ],
      "metadata": {
        "id": "Tb0i0efENNEr"
      }
    },
    {
      "cell_type": "code",
      "source": [
        "# ####################################################################\n",
        "def gauss_jordan(Ab: np.ndarray) -> np.ndarray:\n",
        "    \"\"\"Resuelve un sistema de ecuaciones lineales mediante el método de Gauss-Jordan.\n",
        "\n",
        "    ## Parameters\n",
        "\n",
        "    ``Ab``: matriz aumentada del sistema de ecuaciones lineales. Debe ser de tamaño n-by-(n+1), donde n es el número de incógnitas.\n",
        "\n",
        "    ## Return\n",
        "\n",
        "    ``solucion``: vector con la solución del sistema de ecuaciones lineales.\n",
        "\n",
        "    \"\"\"\n",
        "    if not isinstance(Ab, np.ndarray):\n",
        "        logging.debug(\"Convirtiendo A a numpy array.\")\n",
        "        Ab = np.array(Ab, dtype=float)\n",
        "    assert Ab.shape[0] == Ab.shape[1] - 1, \"La matriz A debe ser de tamaño n-by-(n+1).\"\n",
        "    n = Ab.shape[0]\n",
        "\n",
        "    for i in range(0, n):  # loop por columna\n",
        "\n",
        "        # --- encontrar pivote\n",
        "        p = None  # default, first element\n",
        "        for pi in range(i, n):\n",
        "            if Ab[pi, i] == 0:\n",
        "                # must be nonzero\n",
        "                continue\n",
        "\n",
        "            if p is None:\n",
        "                # first nonzero element\n",
        "                p = pi\n",
        "                continue\n",
        "\n",
        "            if abs(Ab[pi, i]) < abs(Ab[p, i]):\n",
        "                p = pi\n",
        "\n",
        "        if p is None:\n",
        "            # no pivot found.\n",
        "            raise ValueError(\"No existe solución única.\")\n",
        "\n",
        "        if p != i:\n",
        "            # swap rows\n",
        "            logging.debug(f\"Intercambiando filas {i} y {p}\")\n",
        "            _aux = Ab[i, :].copy()\n",
        "            Ab[i, :] = Ab[p, :].copy()\n",
        "            Ab[p, :] = _aux\n",
        "\n",
        "        # --- Eliminación: loop por fila\n",
        "        for j in range(n):\n",
        "            if i == j:\n",
        "                continue\n",
        "            m = Ab[j, i] / Ab[i, i]\n",
        "            Ab[j, i:] = Ab[j, i:] - m * Ab[i, i:]\n",
        "\n",
        "        logging.info(f\"\\n{Ab}\")\n",
        "\n",
        "    if Ab[n - 1, n - 1] == 0:\n",
        "        raise ValueError(\"No existe solución única.\")\n",
        "\n",
        "    # --- Sustitución hacia atrás\n",
        "    solucion = np.zeros(n)\n",
        "\n",
        "    for i in range(n - 1, -1, -1):\n",
        "        solucion[i] = Ab[i, -1] / Ab[i, i]\n",
        "\n",
        "    return solucion"
      ],
      "metadata": {
        "id": "SQV_sf-_IXdz"
      },
      "execution_count": 9,
      "outputs": []
    },
    {
      "cell_type": "markdown",
      "source": [
        "****Método para sacar la matriz inversa****"
      ],
      "metadata": {
        "id": "LYJoaGvdNSPP"
      }
    },
    {
      "cell_type": "code",
      "source": [
        "def inv_matrix(A: np.ndarray) -> np.ndarray:\n",
        "    \"\"\"Inversión de una matriz cuadrada mediante método de Gauss-Jordan.\n",
        "    ## Parameters\n",
        "    ``A``: matriz cuadrada de tamaño n x n.\n",
        "\n",
        "    ## Return\n",
        "    ``A_inv``: matriz inversa de A.\n",
        "    \"\"\"\n",
        "    n = A.shape[0]\n",
        "    # Create an augmented matrix [A | I]\n",
        "    A_aug = np.concatenate((A, np.identity(n)), axis=1)\n",
        "\n",
        "    # Apply Gauss-Jordan elimination\n",
        "    for i in range(n):\n",
        "        # Divide the pivot row by the pivot element to make the pivot 1\n",
        "        pivot = A_aug[i, i]\n",
        "        A_aug[i, :] = A_aug[i, :] / pivot\n",
        "\n",
        "        # Eliminate other rows\n",
        "        for j in range(n):\n",
        "            if i != j:\n",
        "                factor = A_aug[j, i]\n",
        "                A_aug[j, :] = A_aug[j, :] - factor * A_aug[i, :]\n",
        "\n",
        "    # The inverse matrix is the right half of the augmented matrix\n",
        "    A_inv = A_aug[:, n:]\n",
        "    return A_inv"
      ],
      "metadata": {
        "id": "OLh_r57VLKXn"
      },
      "execution_count": 12,
      "outputs": []
    },
    {
      "cell_type": "markdown",
      "source": [
        "****Ejemplo 1****"
      ],
      "metadata": {
        "id": "PkRnhIyMLXA8"
      }
    },
    {
      "cell_type": "code",
      "source": [
        "import numpy as np\n",
        "\n",
        "# Defino la matriz\n",
        "A = np.array([\n",
        "    [1, 2, 3, 4],\n",
        "    [2, 5, 6, 7],\n",
        "    [3, 6, 8, 9],\n",
        "    [4, 7, 9, 10]\n",
        "], dtype=float)\n",
        "\n",
        "# Calculo la inversa\n",
        "try:\n",
        "    A_inv = inv_matrix(A)\n",
        "    print(A_inv)\n",
        "except ValueError as e:\n",
        "    print(f\"Error: {e}\")"
      ],
      "metadata": {
        "colab": {
          "base_uri": "https://localhost:8080/"
        },
        "id": "ZFKEt9K6La7a",
        "outputId": "0c6ddb0b-8f71-45d8-b043-573e289440e6"
      },
      "execution_count": 20,
      "outputs": [
        {
          "output_type": "stream",
          "name": "stdout",
          "text": [
            "[[ 0.5 -0.5 -1.5  1.5]\n",
            " [-0.5  1.5 -1.5  0.5]\n",
            " [-1.5 -1.5  3.5 -1.5]\n",
            " [ 1.5  0.5 -1.5  0.5]]\n"
          ]
        }
      ]
    },
    {
      "cell_type": "markdown",
      "source": [
        "****Ejemplo 2****"
      ],
      "metadata": {
        "id": "CsU0Yb3_M1ZS"
      }
    },
    {
      "cell_type": "code",
      "source": [
        "import numpy as np\n",
        "\n",
        "# Defino la matriz\n",
        "A = np.array([\n",
        "    [4, 4, 5, 1],\n",
        "    [3, 4, 2, 2],\n",
        "    [2, 1, 4, 1],\n",
        "    [3, 2, 5, 4]\n",
        "], dtype=float)\n",
        "\n",
        "# Calculo la inversa\n",
        "try:\n",
        "    A_inv = inv_matrix(A)\n",
        "    print(A_inv)\n",
        "except ValueError as e:\n",
        "    print(f\"Error: {e}\")"
      ],
      "metadata": {
        "colab": {
          "base_uri": "https://localhost:8080/"
        },
        "id": "iK6Oi6QIM2pp",
        "outputId": "22be8093-6184-4ea4-d5f3-4aac2acee8f4"
      },
      "execution_count": 21,
      "outputs": [
        {
          "output_type": "stream",
          "name": "stdout",
          "text": [
            "[[-34.  31.  52. -20.]\n",
            " [ 19. -17. -29.  11.]\n",
            " [ 12. -11. -18.   7.]\n",
            " [  1.  -1.  -2.   1.]]\n"
          ]
        }
      ]
    },
    {
      "cell_type": "markdown",
      "source": [
        "****Ejercicio 1****"
      ],
      "metadata": {
        "id": "fWewVfS6Nmpe"
      }
    },
    {
      "cell_type": "code",
      "source": [
        "import numpy as np\n",
        "\n",
        "# Defino la matriz\n",
        "A = np.array([\n",
        "    [2, -3],\n",
        "    [-1, 1]\n",
        "], dtype=float)\n",
        "\n",
        "# Calculo la inversa\n",
        "try:\n",
        "    A_inv = inv_matrix(A)\n",
        "    print(A_inv)\n",
        "except ValueError as e:\n",
        "    print(f\"Error: {e}\")"
      ],
      "metadata": {
        "colab": {
          "base_uri": "https://localhost:8080/"
        },
        "id": "QtCFYGwnNp6H",
        "outputId": "cb1f997c-614e-40c3-8f72-9b42c124f214"
      },
      "execution_count": 23,
      "outputs": [
        {
          "output_type": "stream",
          "name": "stdout",
          "text": [
            "[[-1. -3.]\n",
            " [-1. -2.]]\n"
          ]
        }
      ]
    },
    {
      "cell_type": "markdown",
      "source": [
        "****Ejercicio 2****"
      ],
      "metadata": {
        "id": "KVyvGF7WOCUd"
      }
    },
    {
      "cell_type": "code",
      "source": [
        "import numpy as np\n",
        "\n",
        "# Defino la matriz\n",
        "A = np.array([\n",
        "    [4, 0, 0, 5],\n",
        "    [1, 0, 4, 0],\n",
        "    [3, 4, 1, 3],\n",
        "    [1, 3, 3, 0]\n",
        "], dtype=float)\n",
        "\n",
        "# Calculo la inversa\n",
        "try:\n",
        "    A_inv = inv_matrix(A)\n",
        "    print(A_inv)\n",
        "except ValueError as e:\n",
        "    print(f\"Error: {e}\")"
      ],
      "metadata": {
        "colab": {
          "base_uri": "https://localhost:8080/"
        },
        "id": "KaXjPpkAOEeW",
        "outputId": "3985ca87-c88c-4386-9935-9c9b39f2c739"
      },
      "execution_count": 28,
      "outputs": [
        {
          "output_type": "stream",
          "name": "stdout",
          "text": [
            "[[nan nan nan nan]\n",
            " [nan nan nan nan]\n",
            " [nan nan nan nan]\n",
            " [nan nan nan nan]]\n"
          ]
        },
        {
          "output_type": "stream",
          "name": "stderr",
          "text": [
            "<ipython-input-12-63a0a83ddd44>:17: RuntimeWarning: divide by zero encountered in divide\n",
            "  A_aug[i, :] = A_aug[i, :] / pivot\n",
            "<ipython-input-12-63a0a83ddd44>:17: RuntimeWarning: invalid value encountered in divide\n",
            "  A_aug[i, :] = A_aug[i, :] / pivot\n",
            "<ipython-input-12-63a0a83ddd44>:23: RuntimeWarning: invalid value encountered in multiply\n",
            "  A_aug[j, :] = A_aug[j, :] - factor * A_aug[i, :]\n"
          ]
        }
      ]
    }
  ]
}