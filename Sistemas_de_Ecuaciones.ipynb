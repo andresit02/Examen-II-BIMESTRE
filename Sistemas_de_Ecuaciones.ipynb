{
  "nbformat": 4,
  "nbformat_minor": 0,
  "metadata": {
    "colab": {
      "provenance": [],
      "authorship_tag": "ABX9TyMhzXDlPPw2yPXDhhGXrCsx",
      "include_colab_link": true
    },
    "kernelspec": {
      "name": "python3",
      "display_name": "Python 3"
    },
    "language_info": {
      "name": "python"
    }
  },
  "cells": [
    {
      "cell_type": "markdown",
      "metadata": {
        "id": "view-in-github",
        "colab_type": "text"
      },
      "source": [
        "<a href=\"https://colab.research.google.com/github/andresit02/Examen-II-BIMESTRE/blob/main/Sistemas_de_Ecuaciones.ipynb\" target=\"_parent\"><img src=\"https://colab.research.google.com/assets/colab-badge.svg\" alt=\"Open In Colab\"/></a>"
      ]
    },
    {
      "cell_type": "code",
      "execution_count": 38,
      "metadata": {
        "colab": {
          "base_uri": "https://localhost:8080/"
        },
        "id": "yuW2-7r3H-I9",
        "outputId": "94b4170e-60e3-455b-ad02-480094316a11"
      },
      "outputs": [
        {
          "output_type": "stream",
          "name": "stdout",
          "text": [
            "The autoreload extension is already loaded. To reload it, use:\n",
            "  %reload_ext autoreload\n"
          ]
        }
      ],
      "source": [
        "%load_ext autoreload\n",
        "# %autoreload 2"
      ]
    },
    {
      "cell_type": "markdown",
      "source": [
        "****Método de Gauss - Jordan****"
      ],
      "metadata": {
        "id": "Tb0i0efENNEr"
      }
    },
    {
      "cell_type": "code",
      "source": [
        "# ####################################################################\n",
        "def gauss_jordan(Ab: np.ndarray) -> np.ndarray:\n",
        "    \"\"\"Resuelve un sistema de ecuaciones lineales mediante el método de Gauss-Jordan.\n",
        "\n",
        "    ## Parameters\n",
        "\n",
        "    ``Ab``: matriz aumentada del sistema de ecuaciones lineales. Debe ser de tamaño n-by-(n+1), donde n es el número de incógnitas.\n",
        "\n",
        "    ## Return\n",
        "\n",
        "    ``solucion``: vector con la solución del sistema de ecuaciones lineales.\n",
        "\n",
        "    \"\"\"\n",
        "    if not isinstance(Ab, np.ndarray):\n",
        "        logging.debug(\"Convirtiendo A a numpy array.\")\n",
        "        Ab = np.array(Ab, dtype=float)\n",
        "    assert Ab.shape[0] == Ab.shape[1] - 1, \"La matriz A debe ser de tamaño n-by-(n+1).\"\n",
        "    n = Ab.shape[0]\n",
        "\n",
        "    for i in range(0, n):  # loop por columna\n",
        "\n",
        "        # --- encontrar pivote\n",
        "        p = None  # default, first element\n",
        "        for pi in range(i, n):\n",
        "            if Ab[pi, i] == 0:\n",
        "                # must be nonzero\n",
        "                continue\n",
        "\n",
        "            if p is None:\n",
        "                # first nonzero element\n",
        "                p = pi\n",
        "                continue\n",
        "\n",
        "            if abs(Ab[pi, i]) < abs(Ab[p, i]):\n",
        "                p = pi\n",
        "\n",
        "        if p is None:\n",
        "            # no pivot found.\n",
        "            raise ValueError(\"No existe solución única.\")\n",
        "\n",
        "        if p != i:\n",
        "            # swap rows\n",
        "            logging.debug(f\"Intercambiando filas {i} y {p}\")\n",
        "            _aux = Ab[i, :].copy()\n",
        "            Ab[i, :] = Ab[p, :].copy()\n",
        "            Ab[p, :] = _aux\n",
        "\n",
        "        # --- Eliminación: loop por fila\n",
        "        for j in range(n):\n",
        "            if i == j:\n",
        "                continue\n",
        "            m = Ab[j, i] / Ab[i, i]\n",
        "            Ab[j, i:] = Ab[j, i:] - m * Ab[i, i:]\n",
        "\n",
        "        logging.info(f\"\\n{Ab}\")\n",
        "\n",
        "    if Ab[n - 1, n - 1] == 0:\n",
        "        raise ValueError(\"No existe solución única.\")\n",
        "\n",
        "    # --- Sustitución hacia atrás\n",
        "    solucion = np.zeros(n)\n",
        "\n",
        "    for i in range(n - 1, -1, -1):\n",
        "        solucion[i] = Ab[i, -1] / Ab[i, i]\n",
        "\n",
        "    return solucion"
      ],
      "metadata": {
        "id": "SQV_sf-_IXdz"
      },
      "execution_count": 51,
      "outputs": []
    },
    {
      "cell_type": "markdown",
      "source": [
        "****Método para sacar la matriz inversa****"
      ],
      "metadata": {
        "id": "LYJoaGvdNSPP"
      }
    },
    {
      "cell_type": "code",
      "source": [
        "def inv_matrix(A: np.ndarray) -> np.ndarray:\n",
        "    \"\"\"\n",
        "    Inversión de una matriz cuadrada mediante el método de Gauss-Jordan.\n",
        "\n",
        "    ## Parameters\n",
        "    ``A``: matriz cuadrada de tamaño n x n.\n",
        "\n",
        "    ## Return\n",
        "    ``A_inv``: matriz inversa de A.\n",
        "    \"\"\"\n",
        "    assert A.shape[0] == A.shape[1], \"La matriz debe ser cuadrada para calcular la inversa.\"\n",
        "    n = A.shape[0]\n",
        "\n",
        "    A_aug = np.concatenate((A.astype(float), np.identity(n)), axis=1)\n",
        "\n",
        "    # Aplicación de la eliminación Gauss-Jordan\n",
        "    for i in range(n):\n",
        "        # Verificar si el pivote es cero\n",
        "        if np.isclose(A_aug[i, i], 0):\n",
        "            # Buscar una fila para intercambiar\n",
        "            for k in range(i + 1, n):\n",
        "                if not np.isclose(A_aug[k, i], 0):\n",
        "                    # Intercambio de filas\n",
        "                    A_aug[[i, k]] = A_aug[[k, i]]\n",
        "                    break\n",
        "            else:\n",
        "                raise ValueError(\"La matriz es singular y no tiene inversa.\")\n",
        "\n",
        "        A_aug[i, :] /= A_aug[i, i]\n",
        "\n",
        "        for j in range(n):\n",
        "            if i != j:\n",
        "                factor = A_aug[j, i]\n",
        "                A_aug[j, :] -= factor * A_aug[i, :]\n",
        "\n",
        "    A_inv = A_aug[:, n:]\n",
        "    return A_inv"
      ],
      "metadata": {
        "id": "OLh_r57VLKXn"
      },
      "execution_count": 59,
      "outputs": []
    },
    {
      "cell_type": "markdown",
      "source": [
        "****Ejemplo 1****"
      ],
      "metadata": {
        "id": "PkRnhIyMLXA8"
      }
    },
    {
      "cell_type": "code",
      "source": [
        "import numpy as np\n",
        "\n",
        "# Defino la matriz\n",
        "A = np.array([\n",
        "    [1, 2, 3, 4],\n",
        "    [2, 5, 6, 7],\n",
        "    [3, 6, 8, 9],\n",
        "    [4, 7, 9, 10]\n",
        "], dtype=float)\n",
        "\n",
        "# Calculo la inversa\n",
        "try:\n",
        "    A_inv = inv_matrix(A)\n",
        "    print(A_inv)\n",
        "except ValueError as e:\n",
        "    print(f\"Error: {e}\")"
      ],
      "metadata": {
        "colab": {
          "base_uri": "https://localhost:8080/"
        },
        "id": "ZFKEt9K6La7a",
        "outputId": "1a803fb4-0c8d-438b-bd39-32387a63cd97"
      },
      "execution_count": 60,
      "outputs": [
        {
          "output_type": "stream",
          "name": "stdout",
          "text": [
            "[[ 0.5 -0.5 -1.5  1.5]\n",
            " [-0.5  1.5 -1.5  0.5]\n",
            " [-1.5 -1.5  3.5 -1.5]\n",
            " [ 1.5  0.5 -1.5  0.5]]\n"
          ]
        }
      ]
    },
    {
      "cell_type": "markdown",
      "source": [
        "****Ejemplo 2****"
      ],
      "metadata": {
        "id": "CsU0Yb3_M1ZS"
      }
    },
    {
      "cell_type": "code",
      "source": [
        "import numpy as np\n",
        "\n",
        "# Defino la matriz\n",
        "A = np.array([\n",
        "    [4, 4, 5, 1],\n",
        "    [3, 4, 2, 2],\n",
        "    [2, 1, 4, 1],\n",
        "    [3, 2, 5, 4]\n",
        "], dtype=float)\n",
        "\n",
        "# Calculo la inversa\n",
        "try:\n",
        "    A_inv = inv_matrix(A)\n",
        "    print(A_inv)\n",
        "except ValueError as e:\n",
        "    print(f\"Error: {e}\")"
      ],
      "metadata": {
        "colab": {
          "base_uri": "https://localhost:8080/"
        },
        "id": "iK6Oi6QIM2pp",
        "outputId": "f4e2a8f0-ae6e-44b7-aeda-db2e1b0f20b1"
      },
      "execution_count": 61,
      "outputs": [
        {
          "output_type": "stream",
          "name": "stdout",
          "text": [
            "[[-34.  31.  52. -20.]\n",
            " [ 19. -17. -29.  11.]\n",
            " [ 12. -11. -18.   7.]\n",
            " [  1.  -1.  -2.   1.]]\n"
          ]
        }
      ]
    },
    {
      "cell_type": "markdown",
      "source": [
        "****Ejercicio 1****"
      ],
      "metadata": {
        "id": "fWewVfS6Nmpe"
      }
    },
    {
      "cell_type": "code",
      "source": [
        "import numpy as np\n",
        "\n",
        "# Defino la matriz\n",
        "A = np.array([\n",
        "    [2, -3],\n",
        "    [-1, 1]\n",
        "], dtype=float)\n",
        "\n",
        "# Calculo la inversa\n",
        "try:\n",
        "    A_inv = inv_matrix(A)\n",
        "    print(A_inv)\n",
        "except ValueError as e:\n",
        "    print(f\"Error: {e}\")"
      ],
      "metadata": {
        "colab": {
          "base_uri": "https://localhost:8080/"
        },
        "id": "QtCFYGwnNp6H",
        "outputId": "6da215d2-4154-4639-9809-cff698ed10ea"
      },
      "execution_count": 62,
      "outputs": [
        {
          "output_type": "stream",
          "name": "stdout",
          "text": [
            "[[-1. -3.]\n",
            " [-1. -2.]]\n"
          ]
        }
      ]
    },
    {
      "cell_type": "markdown",
      "source": [
        "****Ejercicio 2****"
      ],
      "metadata": {
        "id": "KVyvGF7WOCUd"
      }
    },
    {
      "cell_type": "code",
      "source": [
        "import numpy as np\n",
        "\n",
        "# Defino la matriz\n",
        "A = np.array([\n",
        "    [4, 0, 0, 5],\n",
        "    [1, 0, 4, 0],\n",
        "    [3, 4, 1, 3],\n",
        "    [1, 3, 3, 0]\n",
        "], dtype=float)\n",
        "\n",
        "# Calculo la inversa\n",
        "try:\n",
        "    A_inv = inv_matrix(A)\n",
        "    print(A_inv)\n",
        "except ValueError as e:\n",
        "    print(f\"Error: {e}\")"
      ],
      "metadata": {
        "colab": {
          "base_uri": "https://localhost:8080/"
        },
        "id": "KaXjPpkAOEeW",
        "outputId": "a5ebb534-4656-471b-ce15-da7e79f2c377"
      },
      "execution_count": 63,
      "outputs": [
        {
          "output_type": "stream",
          "name": "stdout",
          "text": [
            "[[-36.  45.  60. -80.]\n",
            " [  3.  -4.  -5.   7.]\n",
            " [  9. -11. -15.  20.]\n",
            " [ 29. -36. -48.  64.]]\n"
          ]
        }
      ]
    },
    {
      "cell_type": "markdown",
      "source": [
        "****Ejercicio 3****"
      ],
      "metadata": {
        "id": "V8EEHY5FsTcA"
      }
    },
    {
      "cell_type": "code",
      "source": [
        "import numpy as np\n",
        "\n",
        "# Defino la matriz\n",
        "A = np.array([\n",
        "    [0, 0, 0, 0, 0, 0, 1, -1],\n",
        "    [0, 1, -1, 1, 0, -1, 0, 1],\n",
        "    [-1, -1, 0, 0, 2, 1, 0, 0],\n",
        "    [-1, -1, -1, 1, 2, 0, 0, 1],\n",
        "    [-1, 1, 1, 0, -1, -1, 0, 2],\n",
        "    [0, 1, 0, 0, -1, -1, 0, 0],\n",
        "    [1, -1, -1, 1, 2, 1, 0, 2],\n",
        "    [2, 0, 0, 0, 0, 1, 2, 0]\n",
        "], dtype=float)\n",
        "\n",
        "# Calculo la inversa\n",
        "try:\n",
        "    A_inv = inv_matrix(A)\n",
        "    print(A_inv)\n",
        "except ValueError as e:\n",
        "    print(f\"Error: {e}\")"
      ],
      "metadata": {
        "colab": {
          "base_uri": "https://localhost:8080/"
        },
        "id": "W0XA0xJ4sQvD",
        "outputId": "e32e9063-87c9-4429-ff61-b94f1bd371c3"
      },
      "execution_count": 64,
      "outputs": [
        {
          "output_type": "stream",
          "name": "stdout",
          "text": [
            "[[ 2. -1.  0. -1.  0.  2.  2. -1.]\n",
            " [ 0.  1.  1. -1.  0.  0.  0.  0.]\n",
            " [ 6. -1.  0. -3.  1.  1.  4. -3.]\n",
            " [ 6.  1. -1. -3.  1. -3.  3. -3.]\n",
            " [ 2. -1.  1. -1.  0.  3.  2. -1.]\n",
            " [-2.  2.  0.  0.  0. -4. -2.  1.]\n",
            " [-1.  0.  0.  1.  0.  0. -1.  1.]\n",
            " [-2.  0.  0.  1.  0.  0. -1.  1.]]\n"
          ]
        }
      ]
    },
    {
      "cell_type": "markdown",
      "source": [
        "****Ejercicio 4****"
      ],
      "metadata": {
        "id": "1dR95xNqsZt3"
      }
    },
    {
      "cell_type": "code",
      "source": [
        "import numpy as np\n",
        "\n",
        "# Defino la matriz\n",
        "A = np.array([\n",
        "    [1, 0, 0, 0, -1, 0, 0, -1, 1, -1],\n",
        "    [1, 1, 0, -1, -1, 1, 0, 0, 1, -1],\n",
        "    [-1, 0, -1, 0, 0, 0, -1, 1, 0, 0],\n",
        "    [0, 0, -1, 0, -1, -1, 1, 0, 1, 0],\n",
        "    [-1, 0, 0, -1, 1, 1, 1, 1, 0, -1],\n",
        "    [1, 0, 0, 1, -1, -1, -1, 1, -1, 0],\n",
        "    [1, 1, 1, 0, 1, 0, -1, -1, -1, 1],\n",
        "    [1, 1, 1, 1, 0, 0, 1, 1, 0, 0],\n",
        "    [1, 1, 1, 1, 1, 0, -1, -1, 0, 0],\n",
        "    [0, 0, -1, -1, -1, 0, 1, 1, 1, -1]\n",
        "], dtype=float)\n",
        "\n",
        "# Calculo la inversa\n",
        "try:\n",
        "    A_inv = inv_matrix(A)\n",
        "    print(A_inv)\n",
        "except ValueError as e:\n",
        "    print(f\"Error: {e}\")"
      ],
      "metadata": {
        "colab": {
          "base_uri": "https://localhost:8080/"
        },
        "id": "9wBJvsdUseAu",
        "outputId": "1d284df0-717c-4ea1-f242-ca8bcc51bcff"
      },
      "execution_count": 66,
      "outputs": [
        {
          "output_type": "stream",
          "name": "stdout",
          "text": [
            "[[ 14.  -8.   9.  -4.   0.  -4.   9.   7.  -8.   3.]\n",
            " [ -2.   2.  -1.   2.   1.   1.  -1.  -1.   1.  -2.]\n",
            " [-27.  14. -18.   5.  -2.   7. -17. -13.  16.  -2.]\n",
            " [ 12.  -6.   8.  -2.   1.  -3.   7.   6.  -7.   0.]\n",
            " [  6.  -4.   4.  -2.   0.  -2.   4.   3.  -3.   2.]\n",
            " [ 18.  -9.  12.  -4.   1.  -5.  11.   9. -11.   1.]\n",
            " [  8.  -4.   5.  -1.   1.  -2.   5.   4.  -5.   0.]\n",
            " [ -5.   2.  -3.   0.  -1.   1.  -3.  -2.   3.   1.]\n",
            " [-11.   5.  -7.   1.  -2.   2.  -7.  -5.   7.   1.]\n",
            " [  1.  -1.   1.  -1.  -1.  -1.   1.   1.  -1.   1.]]\n"
          ]
        }
      ]
    }
  ]
}